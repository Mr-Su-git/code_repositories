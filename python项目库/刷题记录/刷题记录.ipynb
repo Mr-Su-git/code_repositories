{
 "cells": [
  {
   "attachments": {},
   "cell_type": "markdown",
   "metadata": {},
   "source": [
    "#### 记录表\n",
    "##### 1、交替合并字符串\n",
    "> ###### ***输入***: 两个字符串\n",
    "> ###### ***输出***: 交替合并后的字符串\n",
    "> ###### 算法说明: 将两字符串word1与word2字符逐一加入列表储存，最后将剩余部分加入列表后转字符串即可\n",
    "> ###### 时间复杂度: O(n)"
   ]
  },
  {
   "cell_type": "code",
   "execution_count": 7,
   "metadata": {},
   "outputs": [
    {
     "name": "stdout",
     "output_type": "stream",
     "text": [
      "word1内容为: yuirt\n",
      "word2内容为: oiuowe\n",
      "交替合并后的字符串为:youiiurotwe\n"
     ]
    }
   ],
   "source": [
    "def mergeAlternately(word1: str, word2: str) -> str:\n",
    "        result = [] ;\n",
    "        for i in range(min(len(word1),len(word2))):\n",
    "            result.append(word1[i])\n",
    "            result.append(word2[i])\n",
    "        if(len(word1)>=len(word2)):\n",
    "            result.append(word1[len(word2):])\n",
    "        else:\n",
    "            result.append(word2[len(word1):])\n",
    "        result = \"\".join(result)\n",
    "        return result\n",
    "word1 = input(\"请输入第一个字符串:\")\n",
    "word2 = input(\"请输入下一个字符串:\")\n",
    "print(\"word1内容为:\",word1)\n",
    "print(\"word2内容为:\",word2)\n",
    "print(\"交替合并后的字符串为:\"+mergeAlternately(word1,word2))"
   ]
  },
  {
   "attachments": {},
   "cell_type": "markdown",
   "metadata": {},
   "source": [
    "##### 2、找不同\n",
    "> ###### ***输入***: 字符串s、字符串t 其中字符串t由s随机重组后加入随机字符组成\n",
    "> ###### ***输出***: 重组后加入的随机字符\n",
    "> ###### 1.0算法说明: 两个字符串均排好序后逐一比较直到发现不同的字符\n",
    "> ###### 时间复杂度: O(nlog(n))\n",
    "> ###### 2.0算法说明: 将字符看做ASCII码,分别计算字符串s和字符串t的总和,用t的总和减s的总和即为加入随机字符的ASCII编码值\n",
    "> ###### 时间复杂度: O(n)"
   ]
  },
  {
   "cell_type": "code",
   "execution_count": 8,
   "metadata": {},
   "outputs": [
    {
     "name": "stdout",
     "output_type": "stream",
     "text": [
      "字符s:uyi\n",
      "字符t:yiut\n",
      "插入的字符是: t\n"
     ]
    }
   ],
   "source": [
    "import random\n",
    "def findTheDifference(s: str, t: str) -> str:\n",
    "    num = input(\"请输入选择的算法:\")\n",
    "    if(num == 1):\n",
    "    # 1.0算法\n",
    "        s = sorted(list(s))\n",
    "        t = sorted(list(t))\n",
    "        for i in range(len(s)):\n",
    "            if(t[i]!=s[i]):\n",
    "                return t[i]\n",
    "        else:\n",
    "            return t[-1]\n",
    "    # 2.0算法\n",
    "    else:\n",
    "        ch_s = ch_t =  0\n",
    "        for ch in s :\n",
    "            ch_s += ord(ch)\n",
    "        for ch in t :\n",
    "            ch_t += ord(ch)\n",
    "        return chr(ch_t-ch_s)\n",
    "word_insert = random.choice('abcdefghijklmnopqrstuvwxyzABCDEFGHIJKLMNOPQRSTUVWXYZ')\n",
    "s_word = input(\"请输入一个字符串:\")\n",
    "lst = list(s_word)\n",
    "lst.append(word_insert)\n",
    "random.shuffle(lst)\n",
    "t_word = ''.join(lst)\n",
    "print(\"字符s:\" + s_word)\n",
    "print(\"字符t:\" + t_word)\n",
    "print(\"插入的字符是:\",findTheDifference(s_word,t_word))"
   ]
  }
 ],
 "metadata": {
  "kernelspec": {
   "display_name": "Python 3",
   "language": "python",
   "name": "python3"
  },
  "language_info": {
   "codemirror_mode": {
    "name": "ipython",
    "version": 3
   },
   "file_extension": ".py",
   "mimetype": "text/x-python",
   "name": "python",
   "nbconvert_exporter": "python",
   "pygments_lexer": "ipython3",
   "version": "3.11.0b4"
  },
  "orig_nbformat": 4,
  "vscode": {
   "interpreter": {
    "hash": "aee8b7b246df8f9039afb4144a1f6fd8d2ca17a180786b69acc140d282b71a49"
   }
  }
 },
 "nbformat": 4,
 "nbformat_minor": 2
}
