{
 "cells": [
  {
   "attachments": {},
   "cell_type": "markdown",
   "metadata": {},
   "source": [
    "##### 移动零\n",
    "<font size=\"3\">\n",
    "给定一个数组 nums，编写一个函数将所有 0 移动到数组的末尾，同时保持非零元素的相对顺序。\n",
    "\n",
    "请注意 ，必须在不复制数组的情况下原地对数组进行操作。\n",
    "</font>"
   ]
  },
  {
   "cell_type": "code",
   "execution_count": null,
   "metadata": {},
   "outputs": [],
   "source": [
    "class Solution:\n",
    "    # 解题思路 : 只遍历一次 把每个非零元素提至数组头部 idx记录位置 之后idx到最后填0即可\n",
    "    # idx作为计数器 每找到一个非零元素就放到idx位置 再idx后移一格 遍历完成后 [idx , -1]位置填0\n",
    "    def moveZeroes(self, nums: list[int]) -> None:\n",
    "        idx = 0\n",
    "        for i in range(len(nums)):\n",
    "            if(nums[i] != 0):\n",
    "                nums[idx] = nums[i]\n",
    "                idx += 1\n",
    "\n",
    "        for i in range(idx , len(nums)):\n",
    "            nums[i] = 0"
   ]
  },
  {
   "attachments": {},
   "cell_type": "markdown",
   "metadata": {},
   "source": [
    "##### 删除排序数组内的重复项\n",
    "<font size=\"3\">\n",
    "给你一个非严格递增排列的数组 nums ，请你原地删除重复出现的元素，使每个元素 只出现一次 ，返回删除后数组的新长度。元素的 相对顺序 应该保持 一致 。然后返回 nums 中唯一元素的个数。\n",
    "\n",
    "考虑 nums 的唯一元素的数量为 k ，你需要做以下事情确保你的题解可以被通过：\n",
    "\n",
    "更改数组 nums ，使 nums 的前 k 个元素包含唯一元素，并按照它们最初在 nums 中出现的顺序排列。nums 的其余元素与 nums 的大小不重要。\n",
    "返回 k 。\n",
    "\n",
    "作者：LeetCode\n",
    "链接：https://leetcode.cn/leetbook/read/all-about-array/x9a60t/\n",
    "来源：力扣（LeetCode）\n",
    "</font>"
   ]
  },
  {
   "cell_type": "code",
   "execution_count": null,
   "metadata": {},
   "outputs": [],
   "source": [
    "class Solution:\n",
    "    # 思路: 每次找到与相邻元素不相同的元素 逐一提至前面\n",
    "    # idx作为数组不同元素的计数器(也是长度)初始时为1 至少有1个元素 \n",
    "    # i从0至length-2还是1至length-1都可以 注意每一对相邻元素都比较到并且不越界就行\n",
    "    def removeDuplicates(self, nums: list[int]) -> int:\n",
    "        idx = 1\n",
    "        for i in range(1 , len(nums)):\n",
    "            if(nums[i] != nums[i - 1]):\n",
    "                nums[idx] = nums[i]\n",
    "                idx += 1\n",
    "        return idx"
   ]
  },
  {
   "attachments": {},
   "cell_type": "markdown",
   "metadata": {},
   "source": [
    "##### 删除数组内的重复元素||\n",
    "<font size=\"3\">\n",
    "给你一个有序数组 nums ，请你 <b>原地</b> 删除重复出现的元素，使得出现次数超过两次的元素只出现两次 ，返回删除后数组的新长度。\n",
    "\n",
    "不要使用额外的数组空间，你必须在 原地 修改输入数组 并在使用 O(1) 额外空间的条件下完成。\n",
    "\n",
    "\n",
    "\n",
    "作者：LeetCode\n",
    "链接：https://leetcode.cn/leetbook/read/all-about-array/x9nivs/\n",
    "来源：力扣（LeetCode）\n",
    "\n",
    "\n",
    "**解题思路**：  \n",
    "由于是保留 k 个相同数字，对于前 k 个数字，我们可以直接保留  \n",
    "对于后面的任意数字，能够保留的前提是：与当前写入的位置前面的第 k 个元素进行比较，不相同则保留\n",
    "\n",
    "\n",
    "</font>"
   ]
  },
  {
   "cell_type": "code",
   "execution_count": null,
   "metadata": {},
   "outputs": [],
   "source": [
    "class Solution:\n",
    "    def removeDuplicates(self, nums: list[int]) -> int:\n",
    "        # 最开始(前两个位置)idx与i完全同步\n",
    "        # 从第3个位置开始判断是否与慢指针(idx)之前的元素有重复 不重复则存 同时两个指针后移\n",
    "        idx = 0\n",
    "        for i in range(0 , len(nums)):\n",
    "            if (idx < 2 or nums[i] != nums[idx-2]):\n",
    "                nums[idx] = nums[i]\n",
    "                idx += 1\n",
    "        return idx"
   ]
  },
  {
   "attachments": {},
   "cell_type": "markdown",
   "metadata": {},
   "source": [
    "##### 荷兰国旗问题\n",
    "<font size=\"3\">\n",
    "给定一个包含红色、白色和蓝色、共 n 个元素的数组 nums ，原地对它们进行排序,\n",
    "\n",
    "使得相同颜色的元素相邻，并按照红色、白色、蓝色顺序排列。\n",
    "\n",
    "我们使用整数 0、 1 和 2 分别表示红色、白色和蓝色。\n",
    "\n",
    "作者：LeetCode\n",
    "链接：https://leetcode.cn/leetbook/read/all-about-array/x9wv2h/\n",
    "来源：力扣（LeetCode）\n",
    "\n",
    "</font>"
   ]
  },
  {
   "attachments": {},
   "cell_type": "markdown",
   "metadata": {},
   "source": [
    "优质题解2 链接：https://leetcode.cn/problems/sort-colors/solutions/1868577/by-ac_oier-7lwk/\n",
    "来源：力扣（LeetCode）\n"
   ]
  },
  {
   "cell_type": "code",
   "execution_count": null,
   "metadata": {},
   "outputs": [],
   "source": [
    "class Solution:\n",
    "    def sortColors(self, nums: list[int]) -> None:\n",
    "        n = len(nums)\n",
    "        # 我们设置三个指针i、j、k 其中i j向右移动 k向左移动\n",
    "        # 任意时刻，我们需要保证 nums[0..j−1] 均为 0，\n",
    "        # nums[j..i−1] 均为 1，nums[k+1..n−1] 均为 2。\n",
    "        i , j , k = 0 , 0 , len(nums) - 1\n",
    "        while i <= k:\n",
    "            if nums[i] == 0: # 元素已知只可能为0 1 2  为0时与最慢的指针(j位置)数值交换\n",
    "                nums[j] , nums[i] = nums[i] , nums[j]\n",
    "                j += 1      # j后移\n",
    "                i += 1    # i后移\n",
    "            elif nums[i] == 1: # 为1时 无操作 指针后移即可\n",
    "                i += 1\n",
    "            else :\n",
    "                nums[k] , nums[i] = nums[i] , nums[k] # 为2时 与最右端数值调换位置\n",
    "                k -= 1      # k前移\n",
    "                # 因为换过来的数据不知道是几 i不可以后移 只有到0或者到1时才可以交换\n",
    "        # 出循环条件: 循环指针与k相遇后\n",
    "        # 算法成立原因: 循环条件设置为指针的位置变化 即便交换后数值仍然需要再次交换调整\n",
    "        # 会因为指针位置没变仍然可以再次交换 直至满足\n",
    "        # 本质为三路快速排序\n"
   ]
  },
  {
   "cell_type": "code",
   "execution_count": 14,
   "metadata": {},
   "outputs": [
    {
     "name": "stdout",
     "output_type": "stream",
     "text": [
      "[7, 6, 5, 3, 2, 1]\n"
     ]
    }
   ],
   "source": [
    "class Solution:\n",
    "    def merge(self, nums1: list[int], m: int, nums2: list[int], n: int) -> None:\n",
    "        nums3 = []\n",
    "        i , j = m - 1 , n - 1\n",
    "        # number = 0\n",
    "        while i >= 0 and j >= 0 :\n",
    "            # number += 1\n",
    "            if nums1[i] > nums2[j]:\n",
    "                nums3.append(nums1[i])\n",
    "                i -= 1\n",
    "            else :\n",
    "                nums3.append(nums2[j])\n",
    "                j -= 1\n",
    "        # print(number)\n",
    "        while i >= 0 :\n",
    "            nums3.append(nums1[i])\n",
    "            i -= 1\n",
    "        while j >= 0 :\n",
    "            nums3.append(nums2[j])\n",
    "            j -= 1\n",
    "        # print(nums3)\n",
    "        nums1 = nums3\n",
    "        print(nums1)\n",
    "\n",
    "nums1 = [1,2,3,0,0,0]\n",
    "nums2 = [5,6,7]\n",
    "obj = Solution\n",
    "obj.merge(obj , nums1 , 3 , nums2 , 3)\n"
   ]
  }
 ],
 "metadata": {
  "kernelspec": {
   "display_name": "Python 3",
   "language": "python",
   "name": "python3"
  },
  "language_info": {
   "codemirror_mode": {
    "name": "ipython",
    "version": 3
   },
   "file_extension": ".py",
   "mimetype": "text/x-python",
   "name": "python",
   "nbconvert_exporter": "python",
   "pygments_lexer": "ipython3",
   "version": "3.11.0b4 (v3.11.0b4:5a7e1e0a92, Jul 11 2022, 12:47:14) [Clang 13.0.0 (clang-1300.0.29.30)]"
  },
  "orig_nbformat": 4,
  "vscode": {
   "interpreter": {
    "hash": "aee8b7b246df8f9039afb4144a1f6fd8d2ca17a180786b69acc140d282b71a49"
   }
  }
 },
 "nbformat": 4,
 "nbformat_minor": 2
}
