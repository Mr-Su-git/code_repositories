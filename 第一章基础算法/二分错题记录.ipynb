{
 "cells": [
  {
   "attachments": {},
   "cell_type": "markdown",
   "metadata": {},
   "source": [
    "##### 旋转排序数组进行二分查找(特定值)\n",
    "<font size=\"3\">\n",
    "整数数组 nums 按升序排列，数组中的值互不相同。\n",
    "\n",
    "在传递给函数之前，nums 在预先未知的某个下标 k（0 <= k < nums.length）上进行了 *旋转*，使数组变为 [nums[k], nums[k+1], ..., nums[n-1], nums[0], nums[1], ..., nums[k-1]]**（下标 从 0 开始 计数）**。例如， [0,1,2,4,5,6,7] 在下标 3 处经旋转后可能变为 [4,5,6,7,0,1,2] 。\n",
    "\n",
    "给你 旋转后 的数组 nums 和一个整数 target ，如果 nums 中存在这个目标值 target ，则返回它的下标，否则返回 -1 。\n",
    "\n",
    "你必须设计一个时间复杂度为 O(log n) 的算法解决此问题。\n",
    "\n",
    "作者：LeetCode\n",
    "链接：https://leetcode.cn/leetbook/read/binary-search/xeog5j/\n",
    "来源：力扣（LeetCode）\n",
    "著作权归作者所有。商业转载请联系作者获得授权，非商业转载请注明出处。\n",
    "</font>"
   ]
  },
  {
   "cell_type": "code",
   "execution_count": null,
   "metadata": {},
   "outputs": [],
   "source": [
    "class Solution:\n",
    "    def search(self, nums: list[int], target: int) -> int:\n",
    "        l = 0\n",
    "        r = len(nums) - 1\n",
    "        while(l <= r):\n",
    "            mid = int((l + r) / 2)\n",
    "            \n",
    "            if(nums[mid] == target):\n",
    "                return mid\n",
    "            \n",
    "            if(nums[l] <= nums[mid]): # 数组[l,mid]之间为递增序列 (数组为左递增)\n",
    "                if(nums[l] <= target and target < nums[mid]): # 如果target在[l,mid-1]之间\n",
    "                    r = mid - 1\n",
    "                else: # target在[mid+1,r]\n",
    "                    l = mid + 1\n",
    "            else : # 数组为右递增\n",
    "                if(nums[mid] < target and target <= nums[r]): # target在[mid+1,r]之间\n",
    "                    l = mid + 1\n",
    "                else: # target在[l,mid-1]之间\n",
    "                    r = mid - 1\n",
    "        # 出循环条件 : l > r\n",
    "        return -1\n",
    "\n",
    "nums = [3,4,5,6,7,0,1,2]\n",
    "target = 1\n",
    "obj = Solution\n",
    "idx = obj.search(obj , nums , target)\n",
    "print(idx)\n",
    "\n"
   ]
  },
  {
   "attachments": {},
   "cell_type": "markdown",
   "metadata": {},
   "source": [
    "##### 旋转排序数组进行二分查找(最小值)\n",
    "<font size=\"3\">\n",
    "已知一个长度为 n 的数组，预先按照升序排列，经由 1 到 n 次 旋转 后，得到输入数组。例如，原数组 nums = [0,1,2,4,5,6,7] 在变化后可能得到：<br/>\n",
    "若旋转 4 次，则可以得到 [4,5,6,7,0,1,2]<br/>\n",
    "若旋转 7 次，则可以得到 [0,1,2,4,5,6,7]<br/>\n",
    "注意，数组 [a[0], a[1], a[2], ..., a[n-1]] 旋转一次 的结果为数组 [a[n-1], a[0], a[1], a[2], ..., a[n-2]] 。\n",
    "\n",
    "给你一个元素值 互不相同 的数组 nums ，它原来是一个升序排列的数组，并按上述情形进行了多次旋转。请你找出并返回数组中的 最小元素 。\n",
    "\n",
    "你必须设计一个时间复杂度为 O(log n) 的算法解决此问题。\n",
    "\n",
    "作者：LeetCode\n",
    "链接：https://leetcode.cn/leetbook/read/binary-search/xeawbd/  \n",
    "来源：力扣（LeetCode）\n",
    "著作权归作者所有。商业转载请联系作者获得授权，非商业转载请注明出处。\n",
    "</font>"
   ]
  },
  {
   "cell_type": "code",
   "execution_count": null,
   "metadata": {},
   "outputs": [],
   "source": [
    "class Solution:\n",
    "    def findMin(self, nums: list[int]) -> int:\n",
    "        l = 0\n",
    "        r = len(nums)-1\n",
    "        while(l < r):\n",
    "            mid = (l + r) // 2  \n",
    "            # 维护的区间始终为[l , r] 区间范围不断缩小 返回nums[l]\n",
    "            if(nums[l] <= nums[r]):\n",
    "                return nums[l]\n",
    "            elif(nums[l] <= nums[mid]):\n",
    "                l = mid + 1\n",
    "            elif(nums[l] > nums[mid]):\n",
    "                r = mid\n",
    "        return nums[l]\n",
    "\n",
    "nums = [11,13,15,17]\n",
    "obj = Solution\n",
    "idx = obj.findMin(obj , nums)\n",
    "print(idx)"
   ]
  },
  {
   "attachments": {},
   "cell_type": "markdown",
   "metadata": {},
   "source": [
    "##### 寻找峰值\n",
    "<font size=\"3\">\n",
    "峰值元素是指其值严格大于左右相邻值的元素。\n",
    "\n",
    "给你一个整数数组 nums，找到峰值元素并返回其索引。数组可能包含多个峰值，在这种情况下，返回 任何一个峰值 所在位置即可。\n",
    "\n",
    "你可以假设 nums[-1] = nums[n] = -∞ 。\n",
    "\n",
    "你必须实现时间复杂度为 O(log n) 的算法来解决此问题。\n",
    "\n",
    "注：因为是峰值，所以首尾元素不予考虑  \n",
    "链接：https://leetcode.cn/leetbook/read/binary-search/xewxz1/  \n",
    "来源：力扣（LeetCode）\n",
    "</font>"
   ]
  },
  {
   "cell_type": "code",
   "execution_count": null,
   "metadata": {},
   "outputs": [],
   "source": [
    "# 返回某个满足:nums[k-1] < nums[k] && nums[k] > nums[k+1]的k值\n",
    "class Solution:\n",
    "    # 要点：nums[mid] > nums[mid-1], 是找上坡, 只要确定这是个上坡，那么一直往上走一定有山峰。\n",
    "    # 模板Ⅲ的灵魂所在：while left + 1 < right, 这个循环条件保证了每次循环内至少有 3 个元素在做计算。\n",
    "    # 因此, 你可以放心的用mid中值 与 左邻居和右邻居 做单调性检测。\n",
    "    def findPeakElement(self, nums: list[int]) -> int:\n",
    "        if len(nums) == 1 :\n",
    "            return 0\n",
    "        \n",
    "        l , r = 0 , len(nums) - 1\n",
    "        while l + 1 < r :\n",
    "            mid = (r - l) // 2 + l\n",
    "            if nums[mid - 1] < nums[mid]: # 比较mid与前一个位置的大小关系(寻找山峰)\n",
    "                l = mid # 满足条件则 l收到mid\n",
    "            else :\n",
    "                r = mid # 不满足则另一侧 r收到mid\n",
    "        # 出循环时两者夹逼至只剩两个元素  根据最后的大小关系确定山峰\n",
    "        if nums[l] > nums[r]:\n",
    "            return l\n",
    "        else :\n",
    "            return r"
   ]
  },
  {
   "attachments": {},
   "cell_type": "markdown",
   "metadata": {},
   "source": [
    "##### 二分小结\n",
    "<font size = \"3\">\n",
    "对于二分写法1,常用于<em><strong>元素的性质与周围相邻元素无关的查找</strong></em>,nums[mid]与target的关系明确<strong>不涉及相邻元素的性质</strong>,<br/><br/>\n",
    "而对于写法3,则常用于<em><strong>元素性质与周围元素相关的的查找</strong></em>,循环中比较判别时<strong>涉及nums[mid]与其他元素的比较</strong>,<br/>最终将范围收束至一个范围[l,r]而不是确定死了 l一定等于r或是mid 通过进一步的判别得到答案\n",
    "</font>\n",
    "\n",
    "<p>\n",
    "<img src=\"/Users/sumingpeng/Desktop/数据结构与C语言/蓝桥练手/算法基础/img/template_diagram.png\" width=\"450\" hieght=\"480\" />\n",
    "</p>\n",
    "<font size=\"3\">\n",
    "\n",
    "详细讲解链接：https://leetcode.cn/leetbook/read/binary-search/xewjg7/\n",
    "来源：力扣（LeetCode）\n",
    "</font>"
   ]
  }
 ],
 "metadata": {
  "kernelspec": {
   "display_name": "Python 3",
   "language": "python",
   "name": "python3"
  },
  "language_info": {
   "codemirror_mode": {
    "name": "ipython",
    "version": 3
   },
   "file_extension": ".py",
   "mimetype": "text/x-python",
   "name": "python",
   "nbconvert_exporter": "python",
   "pygments_lexer": "ipython3",
   "version": "3.11.0b4 (v3.11.0b4:5a7e1e0a92, Jul 11 2022, 12:47:14) [Clang 13.0.0 (clang-1300.0.29.30)]"
  },
  "orig_nbformat": 4,
  "vscode": {
   "interpreter": {
    "hash": "aee8b7b246df8f9039afb4144a1f6fd8d2ca17a180786b69acc140d282b71a49"
   }
  }
 },
 "nbformat": 4,
 "nbformat_minor": 2
}
