{
 "cells": [
  {
   "attachments": {},
   "cell_type": "markdown",
   "metadata": {},
   "source": [
    "#### 1、寻找数组的中心索引\n",
    "<p><font size = \"3\">\n",
    "给你一个整数数组 nums ，请计算数组的 中心下标 。\n",
    "\n",
    "数组 中心下标 是数组的一个下标，其左侧所有元素相加的和等于右侧所有元素相加的和。\n",
    "\n",
    "如果中心下标位于数组最左端，那么左侧数之和视为 0 ，因为在下标的左侧不存在元素。这一点对于中心下标位于数组最右端同样适用。\n",
    "\n",
    "如果数组有多个中心下标，应该返回 最靠近左边 的那一个。如果数组不存在中心下标，返回 -1 \n",
    "\n",
    "例子：nums = [1, 7, 3, 6, 5, 6] 返回：3\n",
    "\n",
    "作者：LeetCode  \n",
    "链接：https://leetcode.cn/leetbook/read/array-and-string/yf47s/  \n",
    "来源：力扣（LeetCode）\n",
    "</font></p>"
   ]
  },
  {
   "cell_type": "code",
   "execution_count": null,
   "metadata": {},
   "outputs": [],
   "source": [
    "class Solution:\n",
    "    def pivotIndex(self, nums: list[int]) -> int:\n",
    "        # 如果为空数组则直接返回下标 0\n",
    "        i = len(nums) - 1\n",
    "        if i == 0 :\n",
    "            return 0\n",
    "        Sum = sum(nums) # 求出数组元素总和\n",
    "        # print(sum)\n",
    "        t , k = 0 , 0   # k指向当前元素 t表示k左边的元素总和\n",
    "        for k in range(len(nums)):\n",
    "            # 如果左右侧值相等 那么左侧和*2+当前元素=总元素和\n",
    "            if 2*t+nums[k] == Sum :\n",
    "                return k\n",
    "            # 如果当前索引不满足要求再将当前元素加入左侧和中继续循环\n",
    "            t += nums[k]\n",
    "\n",
    "        return -1"
   ]
  },
  {
   "attachments": {},
   "cell_type": "markdown",
   "metadata": {},
   "source": [
    "#### 2、搜索插入位置\n",
    "<p><font size=\"3\">\n",
    "给定一个排序数组和一个目标值，在数组中找到目标值，并返回其索引。如果目标值不存在于数组中，返回它将会被按顺序插入的位置。\n",
    "\n",
    "请必须使用时间复杂度为 O(log n) 的算法。\n",
    "\n",
    "解题思路: 二分搜索\n",
    "\n",
    "作者：LeetCode  \n",
    "链接：https://leetcode.cn/leetbook/read/  array-and-string/cxqdh/  \n",
    "来源：力扣（LeetCode）\n",
    "</font></p>"
   ]
  },
  {
   "cell_type": "code",
   "execution_count": null,
   "metadata": {},
   "outputs": [],
   "source": [
    "class Solution:\n",
    "    def searchInsert(self, nums: list[int], target: int) -> int:\n",
    "        # 核心思路: 二分法查找\n",
    "        l , r = 0 , len(nums) - 1\n",
    "        while(l < r):\n",
    "            mid = (l + r) // 2\n",
    "            if(nums[mid] == target):\n",
    "                return mid\n",
    "            if(nums[mid] > target):\n",
    "                r = mid - 1\n",
    "            else :\n",
    "                l = mid + 1\n",
    "        # print(l)\n",
    "        # print(r)\n",
    "        # 查询后的结果: l == r 为最接近target元素的下标\n",
    "        # 单独判断 如果nums[l] >= target 则应该nums[l]右移让出l号位置\n",
    "        if nums[l] >= target :\n",
    "            return l\n",
    "        # 反之target较大应该排在l后一号位置\n",
    "        return l + 1"
   ]
  },
  {
   "attachments": {},
   "cell_type": "markdown",
   "metadata": {},
   "source": [
    "#### 3、区间合并\n",
    "<p><font size = \"3\">\n",
    "以数组 intervals 表示若干个区间的集合，其中单个区间为 intervals[i] = [starti, endi] 。\n",
    "\n",
    "请你合并所有重叠的区间，并返回 一个不重叠的区间数组，该数组需恰好覆盖输入中的所有区间 。\n",
    "\n",
    "例:  \n",
    "输入：intervals = [[1,3],[2,6],[8,10],[15,18]]  \n",
    "输出：[[1,6],[8,10],[15,18]]  \n",
    "解释：区间 [1,3] 和 [2,6] 重叠, 将它们合并为 [1,6].\n",
    "\n",
    "解题思路: 贪心\n",
    "\n",
    "作者：LeetCode  \n",
    "链接：https://leetcode.cn/leetbook/read/  array-and-string/c5tv3/  \n",
    "来源：力扣（LeetCode）\n",
    "</font></p>"
   ]
  },
  {
   "cell_type": "code",
   "execution_count": null,
   "metadata": {},
   "outputs": [],
   "source": [
    "class Solution:\n",
    "    def merge(self, intervals: list[list[int]]) -> List[List[int]]:\n",
    "        # 将数组按照左端点排序\n",
    "        intervals.sort(key = lambda x : x[0])\n",
    "\n",
    "        # 创建存储结果的列表\n",
    "        merges = list()\n",
    "        for interval in intervals:\n",
    "            # 因为按照区间的左端点 每次最后加入的区间就是目前左端点最靠右的区间\n",
    "            # 如果当前结果列表非空(只在第一次循环出现) 或者 当前区间的左端点在最后加入区间的右端点右侧(即无交点)\n",
    "            if not merges or merges[-1][-1] < interval[0]:\n",
    "                merges.append(interval)\n",
    "            else :  # 存在交点则 延长最后加入区间的右端点\n",
    "                merges[-1][-1] = max(merges[-1][-1] , interval[-1])\n",
    "        return merges"
   ]
  },
  {
   "attachments": {},
   "cell_type": "markdown",
   "metadata": {},
   "source": [
    "#### 4、最长公共前缀\n",
    "<font size = \"3\">\n",
    "编写一个函数来查找字符串数组中的最长公共前缀。\n",
    "\n",
    "如果不存在公共前缀，返回空字符串 \"\"。\n",
    "\n",
    "示例1 :  \n",
    "输入：strs = [\"flower\",\"flow\",\"flight\"]  \n",
    "输出：\"fl\"\n",
    "\n",
    "示例2 :  \n",
    "输入：strs = [\"dog\",\"racecar\",\"car\"]  \n",
    "输出：\"\"  \n",
    "解释：输入不存在公共前缀。\n",
    "</font>"
   ]
  },
  {
   "cell_type": "code",
   "execution_count": null,
   "metadata": {},
   "outputs": [],
   "source": [
    "# 解法1 : 二分查找  (时间复杂度: n * logm)\n",
    "class Solution:\n",
    "    def longestCommonPrefix(self, strs: list[str]) -> str:\n",
    "        if not strs :\n",
    "            return \"\"\n",
    "        # 获取数组中最短字符串的长度: \n",
    "        # 木桶效应 —> 最长前缀和不会超过这个长度\n",
    "        min_len = min(len(s) for s in strs)\n",
    "\n",
    "        low , high = 0 , min_len\n",
    "        # 以 min_len 作为上界开始二分查找\n",
    "        while low < high :\n",
    "            mid = (low + high) // 2\n",
    "            # 具体的判别方法另外写\n",
    "            # 作为成员方法调用 不能像这样直接调用: if check(strs , mid):\n",
    "            if self.check(strs , mid) : # 检查strs数组每个元素的前length个字符是否相同\n",
    "                low = mid\n",
    "            else :\n",
    "                high = mid - 1\n",
    "        \n",
    "        return strs[0][:low]\n",
    "    \n",
    "    # 检查数组strs中是否每个元素前length个字符是否相同\n",
    "    def check(self , strs , length):\n",
    "        # 获取前缀字符串\n",
    "        prefix = strs[0][:length]\n",
    "        # 表达式解析 :\n",
    "        # 字符串数组的每个字符串调用startswith方法判断是否以prefix为前缀\n",
    "        # 得到的每一个bool值后经过all方法 只有全部为true时才为true\n",
    "        return all(s.startswith(prefix) for s in strs)"
   ]
  },
  {
   "cell_type": "code",
   "execution_count": 2,
   "metadata": {},
   "outputs": [
    {
     "name": "stdout",
     "output_type": "stream",
     "text": [
      "f\n"
     ]
    }
   ],
   "source": [
    "# 解法2 : 宽度扫描  (时间复杂度: n * m)\n",
    "\n",
    "# 注意: 以第一个字符串为基准不会影响算法的正确性 \n",
    "# 如果第一个字符串恰好为最长的,后续判断 ：有字符串长度与前缀长度一致则return\n",
    "# 如果第一个字符串为最短的,后续判断 ：循环得出的最长的前缀也同第一个字符串一致\n",
    "# 总结 -> 算法始终保持循环时把长度最短的字符串作为终止条件之一 就避免了问题的出现\n",
    "\n",
    "class Solution:\n",
    "    def longestCommonPrefix(self, strs: list[str]) -> str:\n",
    "        # 字符串数组为空时 直接返回空\n",
    "        if not strs:\n",
    "            return \"\"\n",
    "        \n",
    "        for i in range(len(strs[0])):\n",
    "            # i指向公共前缀的最后端 以第一个字符串为基准\n",
    "            char = strs[0][i]\n",
    "            # 对之后的每一个字符串判断\n",
    "            for string in strs[1:]:\n",
    "                # 1、如果存在字符串长度与前缀长度恰好相等则下次循环必定超出 输出\n",
    "                # 2、当前字符串不满足公共前缀验证的字母\n",
    "                if i == len(string) or string[i] != char:\n",
    "                    return strs[0][:i]\n",
    "        \n",
    "        return strs[0]\n",
    "\n",
    "c = Solution\n",
    "print(c.longestCommonPrefix(c , [\"faow\" , \"flwas\" , \"flwe\"]))"
   ]
  }
 ],
 "metadata": {
  "kernelspec": {
   "display_name": "Python 3",
   "language": "python",
   "name": "python3"
  },
  "language_info": {
   "codemirror_mode": {
    "name": "ipython",
    "version": 3
   },
   "file_extension": ".py",
   "mimetype": "text/x-python",
   "name": "python",
   "nbconvert_exporter": "python",
   "pygments_lexer": "ipython3",
   "version": "3.11.0b4 (v3.11.0b4:5a7e1e0a92, Jul 11 2022, 12:47:14) [Clang 13.0.0 (clang-1300.0.29.30)]"
  },
  "orig_nbformat": 4,
  "vscode": {
   "interpreter": {
    "hash": "aee8b7b246df8f9039afb4144a1f6fd8d2ca17a180786b69acc140d282b71a49"
   }
  }
 },
 "nbformat": 4,
 "nbformat_minor": 2
}
